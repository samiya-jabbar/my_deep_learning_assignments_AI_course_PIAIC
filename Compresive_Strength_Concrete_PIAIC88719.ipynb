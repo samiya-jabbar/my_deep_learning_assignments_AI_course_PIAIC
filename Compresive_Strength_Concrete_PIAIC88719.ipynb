{
  "nbformat": 4,
  "nbformat_minor": 0,
  "metadata": {
    "colab": {
      "name": "Compresive_Strength_Concrete_PIAIC88719.ipynb",
      "provenance": [],
      "authorship_tag": "ABX9TyOg7oCanDglbNymZXIptOeW",
      "include_colab_link": true
    },
    "kernelspec": {
      "name": "python3",
      "display_name": "Python 3"
    },
    "language_info": {
      "name": "python"
    }
  },
  "cells": [
    {
      "cell_type": "markdown",
      "metadata": {
        "id": "view-in-github",
        "colab_type": "text"
      },
      "source": [
        "<a href=\"https://colab.research.google.com/github/samiya-jabbar/my_deep_learning_assignments_AI_course_PIAIC/blob/main/Compresive_Strength_Concrete_PIAIC88719.ipynb\" target=\"_parent\"><img src=\"https://colab.research.google.com/assets/colab-badge.svg\" alt=\"Open In Colab\"/></a>"
      ]
    },
    {
      "cell_type": "code",
      "metadata": {
        "id": "-abVMcT9ts4t"
      },
      "source": [
        "import pandas as pd\n",
        "import numpy as np\n",
        "import matplotlib.pyplot as plt\n"
      ],
      "execution_count": 6,
      "outputs": []
    },
    {
      "cell_type": "code",
      "metadata": {
        "colab": {
          "base_uri": "https://localhost:8080/"
        },
        "id": "1yUvXyOtuc2n",
        "outputId": "50e9c4a0-f250-4d1a-8536-31d8638c7358"
      },
      "source": [
        "from google.colab import drive\n",
        "drive.mount('/content/drive')"
      ],
      "execution_count": 7,
      "outputs": [
        {
          "output_type": "stream",
          "text": [
            "Mounted at /content/drive\n"
          ],
          "name": "stdout"
        }
      ]
    },
    {
      "cell_type": "code",
      "metadata": {
        "id": "P_UKuLQbt4lN"
      },
      "source": [
        "data = pd.read_csv('/content/drive/MyDrive/compresive_strength_concrete.csv')"
      ],
      "execution_count": 11,
      "outputs": []
    },
    {
      "cell_type": "code",
      "metadata": {
        "colab": {
          "base_uri": "https://localhost:8080/"
        },
        "id": "w098NOYSupIL",
        "outputId": "6c2165c6-5f51-49ca-c94e-759a6fa2c37d"
      },
      "source": [
        "data.shape"
      ],
      "execution_count": 12,
      "outputs": [
        {
          "output_type": "execute_result",
          "data": {
            "text/plain": [
              "(1030, 9)"
            ]
          },
          "metadata": {
            "tags": []
          },
          "execution_count": 12
        }
      ]
    },
    {
      "cell_type": "code",
      "metadata": {
        "colab": {
          "base_uri": "https://localhost:8080/",
          "height": 255
        },
        "id": "YuL7s-mUu3Us",
        "outputId": "334117f2-935f-4a96-ee36-e2f5dae45f31"
      },
      "source": [
        "data.head()"
      ],
      "execution_count": 13,
      "outputs": [
        {
          "output_type": "execute_result",
          "data": {
            "text/html": [
              "<div>\n",
              "<style scoped>\n",
              "    .dataframe tbody tr th:only-of-type {\n",
              "        vertical-align: middle;\n",
              "    }\n",
              "\n",
              "    .dataframe tbody tr th {\n",
              "        vertical-align: top;\n",
              "    }\n",
              "\n",
              "    .dataframe thead th {\n",
              "        text-align: right;\n",
              "    }\n",
              "</style>\n",
              "<table border=\"1\" class=\"dataframe\">\n",
              "  <thead>\n",
              "    <tr style=\"text-align: right;\">\n",
              "      <th></th>\n",
              "      <th>Cement (component 1)(kg in a m^3 mixture)</th>\n",
              "      <th>Blast Furnace Slag (component 2)(kg in a m^3 mixture)</th>\n",
              "      <th>Fly Ash (component 3)(kg in a m^3 mixture)</th>\n",
              "      <th>Water  (component 4)(kg in a m^3 mixture)</th>\n",
              "      <th>Superplasticizer (component 5)(kg in a m^3 mixture)</th>\n",
              "      <th>Coarse Aggregate  (component 6)(kg in a m^3 mixture)</th>\n",
              "      <th>Fine Aggregate (component 7)(kg in a m^3 mixture)</th>\n",
              "      <th>Age (day)</th>\n",
              "      <th>Concrete compressive strength(MPa, megapascals)</th>\n",
              "    </tr>\n",
              "  </thead>\n",
              "  <tbody>\n",
              "    <tr>\n",
              "      <th>0</th>\n",
              "      <td>540.0</td>\n",
              "      <td>0.0</td>\n",
              "      <td>0.0</td>\n",
              "      <td>162.0</td>\n",
              "      <td>2.5</td>\n",
              "      <td>1040.0</td>\n",
              "      <td>676.0</td>\n",
              "      <td>28</td>\n",
              "      <td>79.99</td>\n",
              "    </tr>\n",
              "    <tr>\n",
              "      <th>1</th>\n",
              "      <td>540.0</td>\n",
              "      <td>0.0</td>\n",
              "      <td>0.0</td>\n",
              "      <td>162.0</td>\n",
              "      <td>2.5</td>\n",
              "      <td>1055.0</td>\n",
              "      <td>676.0</td>\n",
              "      <td>28</td>\n",
              "      <td>61.89</td>\n",
              "    </tr>\n",
              "    <tr>\n",
              "      <th>2</th>\n",
              "      <td>332.5</td>\n",
              "      <td>142.5</td>\n",
              "      <td>0.0</td>\n",
              "      <td>228.0</td>\n",
              "      <td>0.0</td>\n",
              "      <td>932.0</td>\n",
              "      <td>594.0</td>\n",
              "      <td>270</td>\n",
              "      <td>40.27</td>\n",
              "    </tr>\n",
              "    <tr>\n",
              "      <th>3</th>\n",
              "      <td>332.5</td>\n",
              "      <td>142.5</td>\n",
              "      <td>0.0</td>\n",
              "      <td>228.0</td>\n",
              "      <td>0.0</td>\n",
              "      <td>932.0</td>\n",
              "      <td>594.0</td>\n",
              "      <td>365</td>\n",
              "      <td>41.05</td>\n",
              "    </tr>\n",
              "    <tr>\n",
              "      <th>4</th>\n",
              "      <td>198.6</td>\n",
              "      <td>132.4</td>\n",
              "      <td>0.0</td>\n",
              "      <td>192.0</td>\n",
              "      <td>0.0</td>\n",
              "      <td>978.4</td>\n",
              "      <td>825.5</td>\n",
              "      <td>360</td>\n",
              "      <td>44.30</td>\n",
              "    </tr>\n",
              "  </tbody>\n",
              "</table>\n",
              "</div>"
            ],
            "text/plain": [
              "   Cement (component 1)(kg in a m^3 mixture)  ...  Concrete compressive strength(MPa, megapascals) \n",
              "0                                      540.0  ...                                             79.99\n",
              "1                                      540.0  ...                                             61.89\n",
              "2                                      332.5  ...                                             40.27\n",
              "3                                      332.5  ...                                             41.05\n",
              "4                                      198.6  ...                                             44.30\n",
              "\n",
              "[5 rows x 9 columns]"
            ]
          },
          "metadata": {
            "tags": []
          },
          "execution_count": 13
        }
      ]
    },
    {
      "cell_type": "code",
      "metadata": {
        "colab": {
          "base_uri": "https://localhost:8080/"
        },
        "id": "zU7cNHhIu4BW",
        "outputId": "f3616c26-14a2-4ae6-bf8a-b7c2ee623579"
      },
      "source": [
        "data.isnull().sum()"
      ],
      "execution_count": 14,
      "outputs": [
        {
          "output_type": "execute_result",
          "data": {
            "text/plain": [
              "Cement (component 1)(kg in a m^3 mixture)                0\n",
              "Blast Furnace Slag (component 2)(kg in a m^3 mixture)    0\n",
              "Fly Ash (component 3)(kg in a m^3 mixture)               0\n",
              "Water  (component 4)(kg in a m^3 mixture)                0\n",
              "Superplasticizer (component 5)(kg in a m^3 mixture)      0\n",
              "Coarse Aggregate  (component 6)(kg in a m^3 mixture)     0\n",
              "Fine Aggregate (component 7)(kg in a m^3 mixture)        0\n",
              "Age (day)                                                0\n",
              "Concrete compressive strength(MPa, megapascals)          0\n",
              "dtype: int64"
            ]
          },
          "metadata": {
            "tags": []
          },
          "execution_count": 14
        }
      ]
    },
    {
      "cell_type": "code",
      "metadata": {
        "colab": {
          "base_uri": "https://localhost:8080/"
        },
        "id": "vICOl7Zou6Av",
        "outputId": "875cb397-d295-4a17-d36e-3c9946b8c1d6"
      },
      "source": [
        "np.where(data.applymap(lambda x: x == ''))"
      ],
      "execution_count": 15,
      "outputs": [
        {
          "output_type": "execute_result",
          "data": {
            "text/plain": [
              "(array([], dtype=int64), array([], dtype=int64))"
            ]
          },
          "metadata": {
            "tags": []
          },
          "execution_count": 15
        }
      ]
    },
    {
      "cell_type": "code",
      "metadata": {
        "id": "TwMtZ__wu9XH"
      },
      "source": [
        "X_train = data.sample(frac = 0.7, random_state = 123)\n",
        "X_test = data.drop(X_train.index)"
      ],
      "execution_count": 16,
      "outputs": []
    },
    {
      "cell_type": "code",
      "metadata": {
        "colab": {
          "base_uri": "https://localhost:8080/",
          "height": 255
        },
        "id": "36Jy1rDzu_bD",
        "outputId": "6cda1ac3-997e-403e-99fb-cb486ef8b5ff"
      },
      "source": [
        "X_train.head()"
      ],
      "execution_count": 17,
      "outputs": [
        {
          "output_type": "execute_result",
          "data": {
            "text/html": [
              "<div>\n",
              "<style scoped>\n",
              "    .dataframe tbody tr th:only-of-type {\n",
              "        vertical-align: middle;\n",
              "    }\n",
              "\n",
              "    .dataframe tbody tr th {\n",
              "        vertical-align: top;\n",
              "    }\n",
              "\n",
              "    .dataframe thead th {\n",
              "        text-align: right;\n",
              "    }\n",
              "</style>\n",
              "<table border=\"1\" class=\"dataframe\">\n",
              "  <thead>\n",
              "    <tr style=\"text-align: right;\">\n",
              "      <th></th>\n",
              "      <th>Cement (component 1)(kg in a m^3 mixture)</th>\n",
              "      <th>Blast Furnace Slag (component 2)(kg in a m^3 mixture)</th>\n",
              "      <th>Fly Ash (component 3)(kg in a m^3 mixture)</th>\n",
              "      <th>Water  (component 4)(kg in a m^3 mixture)</th>\n",
              "      <th>Superplasticizer (component 5)(kg in a m^3 mixture)</th>\n",
              "      <th>Coarse Aggregate  (component 6)(kg in a m^3 mixture)</th>\n",
              "      <th>Fine Aggregate (component 7)(kg in a m^3 mixture)</th>\n",
              "      <th>Age (day)</th>\n",
              "      <th>Concrete compressive strength(MPa, megapascals)</th>\n",
              "    </tr>\n",
              "  </thead>\n",
              "  <tbody>\n",
              "    <tr>\n",
              "      <th>134</th>\n",
              "      <td>362.6</td>\n",
              "      <td>189.0</td>\n",
              "      <td>0.0</td>\n",
              "      <td>164.9</td>\n",
              "      <td>11.6</td>\n",
              "      <td>944.7</td>\n",
              "      <td>755.8</td>\n",
              "      <td>28</td>\n",
              "      <td>71.30</td>\n",
              "    </tr>\n",
              "    <tr>\n",
              "      <th>13</th>\n",
              "      <td>190.0</td>\n",
              "      <td>190.0</td>\n",
              "      <td>0.0</td>\n",
              "      <td>228.0</td>\n",
              "      <td>0.0</td>\n",
              "      <td>932.0</td>\n",
              "      <td>670.0</td>\n",
              "      <td>90</td>\n",
              "      <td>42.33</td>\n",
              "    </tr>\n",
              "    <tr>\n",
              "      <th>996</th>\n",
              "      <td>152.6</td>\n",
              "      <td>238.7</td>\n",
              "      <td>0.0</td>\n",
              "      <td>200.0</td>\n",
              "      <td>6.3</td>\n",
              "      <td>1001.8</td>\n",
              "      <td>683.9</td>\n",
              "      <td>28</td>\n",
              "      <td>26.86</td>\n",
              "    </tr>\n",
              "    <tr>\n",
              "      <th>770</th>\n",
              "      <td>349.0</td>\n",
              "      <td>0.0</td>\n",
              "      <td>0.0</td>\n",
              "      <td>192.0</td>\n",
              "      <td>0.0</td>\n",
              "      <td>1047.0</td>\n",
              "      <td>806.0</td>\n",
              "      <td>3</td>\n",
              "      <td>14.99</td>\n",
              "    </tr>\n",
              "    <tr>\n",
              "      <th>937</th>\n",
              "      <td>313.3</td>\n",
              "      <td>0.0</td>\n",
              "      <td>113.0</td>\n",
              "      <td>178.5</td>\n",
              "      <td>8.0</td>\n",
              "      <td>1001.9</td>\n",
              "      <td>688.7</td>\n",
              "      <td>28</td>\n",
              "      <td>36.80</td>\n",
              "    </tr>\n",
              "  </tbody>\n",
              "</table>\n",
              "</div>"
            ],
            "text/plain": [
              "     Cement (component 1)(kg in a m^3 mixture)  ...  Concrete compressive strength(MPa, megapascals) \n",
              "134                                      362.6  ...                                             71.30\n",
              "13                                       190.0  ...                                             42.33\n",
              "996                                      152.6  ...                                             26.86\n",
              "770                                      349.0  ...                                             14.99\n",
              "937                                      313.3  ...                                             36.80\n",
              "\n",
              "[5 rows x 9 columns]"
            ]
          },
          "metadata": {
            "tags": []
          },
          "execution_count": 17
        }
      ]
    },
    {
      "cell_type": "code",
      "metadata": {
        "id": "PFgEgt2XvBWl"
      },
      "source": [
        "Y_train = X_train.iloc[:,-1]\n",
        "X_train = X_train.iloc[:,0:-1]\n",
        "Y_test = X_test.iloc[:,-1]\n",
        "X_test = X_test.iloc[:,0:-1]"
      ],
      "execution_count": 18,
      "outputs": []
    },
    {
      "cell_type": "code",
      "metadata": {
        "id": "pJ4hmh5jvEEL"
      },
      "source": [
        "X_mean = X_train.mean()\n",
        "X_train -= X_mean\n",
        "X_std = X_train.std()\n",
        "X_train /= X_std\n",
        "X_test -= X_mean\n",
        "X_test /= X_std"
      ],
      "execution_count": 19,
      "outputs": []
    },
    {
      "cell_type": "code",
      "metadata": {
        "id": "az2ZdW2rvFbz"
      },
      "source": [
        "Y_mean = Y_train.mean()\n",
        "Y_train -= Y_mean\n",
        "Y_std = Y_train.std()\n",
        "Y_train /= Y_std\n",
        "Y_test -= Y_mean\n",
        "Y_test /= Y_std"
      ],
      "execution_count": 20,
      "outputs": []
    },
    {
      "cell_type": "code",
      "metadata": {
        "colab": {
          "base_uri": "https://localhost:8080/"
        },
        "id": "Le5042W4vIdh",
        "outputId": "8688421c-efd2-4247-cada-29c0749afe80"
      },
      "source": [
        "X_train.dtypes"
      ],
      "execution_count": 21,
      "outputs": [
        {
          "output_type": "execute_result",
          "data": {
            "text/plain": [
              "Cement (component 1)(kg in a m^3 mixture)                float64\n",
              "Blast Furnace Slag (component 2)(kg in a m^3 mixture)    float64\n",
              "Fly Ash (component 3)(kg in a m^3 mixture)               float64\n",
              "Water  (component 4)(kg in a m^3 mixture)                float64\n",
              "Superplasticizer (component 5)(kg in a m^3 mixture)      float64\n",
              "Coarse Aggregate  (component 6)(kg in a m^3 mixture)     float64\n",
              "Fine Aggregate (component 7)(kg in a m^3 mixture)        float64\n",
              "Age (day)                                                float64\n",
              "dtype: object"
            ]
          },
          "metadata": {
            "tags": []
          },
          "execution_count": 21
        }
      ]
    },
    {
      "cell_type": "code",
      "metadata": {
        "id": "cs-FArxivL72"
      },
      "source": [
        "X_train = X_train.to_numpy()\n",
        "Y_train = Y_train.to_numpy()\n",
        "X_test = X_test.to_numpy()\n",
        "Y_test = Y_test.to_numpy()"
      ],
      "execution_count": 22,
      "outputs": []
    },
    {
      "cell_type": "code",
      "metadata": {
        "id": "0VMelRcSvPP7"
      },
      "source": [
        "from tensorflow.keras import layers as L\n",
        "from tensorflow.keras import models as M"
      ],
      "execution_count": 23,
      "outputs": []
    },
    {
      "cell_type": "code",
      "metadata": {
        "colab": {
          "base_uri": "https://localhost:8080/"
        },
        "id": "v-xi_ZpRvSY4",
        "outputId": "24533d44-1ac2-43e0-9702-dd5802026e6a"
      },
      "source": [
        "network = M.Sequential()\n",
        "network.add(L.Dense(128,activation=\"relu\",input_shape=(X_train.shape[1],)))\n",
        "network.add(L.Dense(64,activation=\"relu\"))\n",
        "network.add(L.Dense(32,activation=\"relu\"))\n",
        "network.add(L.Dense(1))\n",
        "network.compile(optimizer=\"rmsprop\",loss=[\"mse\"],metrics=[\"mae\"])\n",
        "history = network.fit(X_train,Y_train,epochs=200,validation_split=0.3, batch_size = 16)"
      ],
      "execution_count": 24,
      "outputs": [
        {
          "output_type": "stream",
          "text": [
            "Epoch 1/200\n",
            "32/32 [==============================] - 1s 14ms/step - loss: 0.7504 - mae: 0.7080 - val_loss: 0.4725 - val_mae: 0.5515\n",
            "Epoch 2/200\n",
            "32/32 [==============================] - 0s 3ms/step - loss: 0.2822 - mae: 0.4243 - val_loss: 0.3334 - val_mae: 0.4501\n",
            "Epoch 3/200\n",
            "32/32 [==============================] - 0s 3ms/step - loss: 0.2261 - mae: 0.3746 - val_loss: 0.2841 - val_mae: 0.4048\n",
            "Epoch 4/200\n",
            "32/32 [==============================] - 0s 4ms/step - loss: 0.1950 - mae: 0.3328 - val_loss: 0.2546 - val_mae: 0.3923\n",
            "Epoch 5/200\n",
            "32/32 [==============================] - 0s 3ms/step - loss: 0.1686 - mae: 0.3189 - val_loss: 0.2526 - val_mae: 0.3860\n",
            "Epoch 6/200\n",
            "32/32 [==============================] - 0s 3ms/step - loss: 0.1394 - mae: 0.2951 - val_loss: 0.2349 - val_mae: 0.3701\n",
            "Epoch 7/200\n",
            "32/32 [==============================] - 0s 3ms/step - loss: 0.1288 - mae: 0.2783 - val_loss: 0.2099 - val_mae: 0.3387\n",
            "Epoch 8/200\n",
            "32/32 [==============================] - 0s 3ms/step - loss: 0.1078 - mae: 0.2478 - val_loss: 0.1976 - val_mae: 0.3388\n",
            "Epoch 9/200\n",
            "32/32 [==============================] - 0s 3ms/step - loss: 0.1008 - mae: 0.2350 - val_loss: 0.1863 - val_mae: 0.3233\n",
            "Epoch 10/200\n",
            "32/32 [==============================] - 0s 3ms/step - loss: 0.0854 - mae: 0.2224 - val_loss: 0.2290 - val_mae: 0.3574\n",
            "Epoch 11/200\n",
            "32/32 [==============================] - 0s 3ms/step - loss: 0.1087 - mae: 0.2467 - val_loss: 0.1703 - val_mae: 0.3079\n",
            "Epoch 12/200\n",
            "32/32 [==============================] - 0s 3ms/step - loss: 0.0933 - mae: 0.2398 - val_loss: 0.1899 - val_mae: 0.3255\n",
            "Epoch 13/200\n",
            "32/32 [==============================] - 0s 3ms/step - loss: 0.0790 - mae: 0.2181 - val_loss: 0.1737 - val_mae: 0.3205\n",
            "Epoch 14/200\n",
            "32/32 [==============================] - 0s 3ms/step - loss: 0.0728 - mae: 0.2065 - val_loss: 0.1732 - val_mae: 0.3125\n",
            "Epoch 15/200\n",
            "32/32 [==============================] - 0s 3ms/step - loss: 0.0713 - mae: 0.2002 - val_loss: 0.1709 - val_mae: 0.3228\n",
            "Epoch 16/200\n",
            "32/32 [==============================] - 0s 3ms/step - loss: 0.0664 - mae: 0.1982 - val_loss: 0.1558 - val_mae: 0.2963\n",
            "Epoch 17/200\n",
            "32/32 [==============================] - 0s 3ms/step - loss: 0.0578 - mae: 0.1834 - val_loss: 0.1591 - val_mae: 0.3093\n",
            "Epoch 18/200\n",
            "32/32 [==============================] - 0s 3ms/step - loss: 0.0534 - mae: 0.1835 - val_loss: 0.1537 - val_mae: 0.2941\n",
            "Epoch 19/200\n",
            "32/32 [==============================] - 0s 3ms/step - loss: 0.0658 - mae: 0.2033 - val_loss: 0.1503 - val_mae: 0.2846\n",
            "Epoch 20/200\n",
            "32/32 [==============================] - 0s 3ms/step - loss: 0.0596 - mae: 0.1901 - val_loss: 0.1653 - val_mae: 0.3135\n",
            "Epoch 21/200\n",
            "32/32 [==============================] - 0s 3ms/step - loss: 0.0572 - mae: 0.1719 - val_loss: 0.1538 - val_mae: 0.2927\n",
            "Epoch 22/200\n",
            "32/32 [==============================] - 0s 3ms/step - loss: 0.0545 - mae: 0.1762 - val_loss: 0.1593 - val_mae: 0.2940\n",
            "Epoch 23/200\n",
            "32/32 [==============================] - 0s 3ms/step - loss: 0.0554 - mae: 0.1824 - val_loss: 0.1479 - val_mae: 0.2871\n",
            "Epoch 24/200\n",
            "32/32 [==============================] - 0s 3ms/step - loss: 0.0594 - mae: 0.1874 - val_loss: 0.1693 - val_mae: 0.3131\n",
            "Epoch 25/200\n",
            "32/32 [==============================] - 0s 3ms/step - loss: 0.0631 - mae: 0.1791 - val_loss: 0.1669 - val_mae: 0.3046\n",
            "Epoch 26/200\n",
            "32/32 [==============================] - 0s 3ms/step - loss: 0.0552 - mae: 0.1777 - val_loss: 0.1511 - val_mae: 0.2916\n",
            "Epoch 27/200\n",
            "32/32 [==============================] - 0s 4ms/step - loss: 0.0505 - mae: 0.1693 - val_loss: 0.1569 - val_mae: 0.2914\n",
            "Epoch 28/200\n",
            "32/32 [==============================] - 0s 3ms/step - loss: 0.0452 - mae: 0.1563 - val_loss: 0.1524 - val_mae: 0.2957\n",
            "Epoch 29/200\n",
            "32/32 [==============================] - 0s 3ms/step - loss: 0.0466 - mae: 0.1653 - val_loss: 0.1386 - val_mae: 0.2774\n",
            "Epoch 30/200\n",
            "32/32 [==============================] - 0s 3ms/step - loss: 0.0500 - mae: 0.1695 - val_loss: 0.1444 - val_mae: 0.2873\n",
            "Epoch 31/200\n",
            "32/32 [==============================] - 0s 4ms/step - loss: 0.0416 - mae: 0.1528 - val_loss: 0.1498 - val_mae: 0.2868\n",
            "Epoch 32/200\n",
            "32/32 [==============================] - 0s 3ms/step - loss: 0.0481 - mae: 0.1532 - val_loss: 0.1413 - val_mae: 0.2884\n",
            "Epoch 33/200\n",
            "32/32 [==============================] - 0s 3ms/step - loss: 0.0448 - mae: 0.1612 - val_loss: 0.1457 - val_mae: 0.2716\n",
            "Epoch 34/200\n",
            "32/32 [==============================] - 0s 3ms/step - loss: 0.0455 - mae: 0.1599 - val_loss: 0.1362 - val_mae: 0.2800\n",
            "Epoch 35/200\n",
            "32/32 [==============================] - 0s 3ms/step - loss: 0.0406 - mae: 0.1507 - val_loss: 0.1438 - val_mae: 0.2804\n",
            "Epoch 36/200\n",
            "32/32 [==============================] - 0s 3ms/step - loss: 0.0405 - mae: 0.1460 - val_loss: 0.1437 - val_mae: 0.2875\n",
            "Epoch 37/200\n",
            "32/32 [==============================] - 0s 3ms/step - loss: 0.0397 - mae: 0.1491 - val_loss: 0.1380 - val_mae: 0.2772\n",
            "Epoch 38/200\n",
            "32/32 [==============================] - 0s 3ms/step - loss: 0.0371 - mae: 0.1426 - val_loss: 0.1339 - val_mae: 0.2778\n",
            "Epoch 39/200\n",
            "32/32 [==============================] - 0s 3ms/step - loss: 0.0466 - mae: 0.1534 - val_loss: 0.1231 - val_mae: 0.2632\n",
            "Epoch 40/200\n",
            "32/32 [==============================] - 0s 3ms/step - loss: 0.0370 - mae: 0.1454 - val_loss: 0.1528 - val_mae: 0.2958\n",
            "Epoch 41/200\n",
            "32/32 [==============================] - 0s 3ms/step - loss: 0.0399 - mae: 0.1474 - val_loss: 0.1564 - val_mae: 0.2911\n",
            "Epoch 42/200\n",
            "32/32 [==============================] - 0s 3ms/step - loss: 0.0372 - mae: 0.1462 - val_loss: 0.1381 - val_mae: 0.2890\n",
            "Epoch 43/200\n",
            "32/32 [==============================] - 0s 3ms/step - loss: 0.0354 - mae: 0.1387 - val_loss: 0.1590 - val_mae: 0.3023\n",
            "Epoch 44/200\n",
            "32/32 [==============================] - 0s 3ms/step - loss: 0.0389 - mae: 0.1450 - val_loss: 0.1203 - val_mae: 0.2606\n",
            "Epoch 45/200\n",
            "32/32 [==============================] - 0s 3ms/step - loss: 0.0285 - mae: 0.1262 - val_loss: 0.1378 - val_mae: 0.2709\n",
            "Epoch 46/200\n",
            "32/32 [==============================] - 0s 3ms/step - loss: 0.0412 - mae: 0.1530 - val_loss: 0.1284 - val_mae: 0.2694\n",
            "Epoch 47/200\n",
            "32/32 [==============================] - 0s 3ms/step - loss: 0.0337 - mae: 0.1318 - val_loss: 0.1365 - val_mae: 0.2697\n",
            "Epoch 48/200\n",
            "32/32 [==============================] - 0s 3ms/step - loss: 0.0315 - mae: 0.1353 - val_loss: 0.1567 - val_mae: 0.3142\n",
            "Epoch 49/200\n",
            "32/32 [==============================] - 0s 3ms/step - loss: 0.0346 - mae: 0.1384 - val_loss: 0.1318 - val_mae: 0.2724\n",
            "Epoch 50/200\n",
            "32/32 [==============================] - 0s 3ms/step - loss: 0.0288 - mae: 0.1247 - val_loss: 0.1284 - val_mae: 0.2650\n",
            "Epoch 51/200\n",
            "32/32 [==============================] - 0s 3ms/step - loss: 0.0328 - mae: 0.1292 - val_loss: 0.1381 - val_mae: 0.2888\n",
            "Epoch 52/200\n",
            "32/32 [==============================] - 0s 3ms/step - loss: 0.0293 - mae: 0.1239 - val_loss: 0.1236 - val_mae: 0.2611\n",
            "Epoch 53/200\n",
            "32/32 [==============================] - 0s 4ms/step - loss: 0.0332 - mae: 0.1314 - val_loss: 0.1438 - val_mae: 0.2849\n",
            "Epoch 54/200\n",
            "32/32 [==============================] - 0s 3ms/step - loss: 0.0361 - mae: 0.1450 - val_loss: 0.1222 - val_mae: 0.2620\n",
            "Epoch 55/200\n",
            "32/32 [==============================] - 0s 3ms/step - loss: 0.0289 - mae: 0.1292 - val_loss: 0.1368 - val_mae: 0.2725\n",
            "Epoch 56/200\n",
            "32/32 [==============================] - 0s 3ms/step - loss: 0.0359 - mae: 0.1368 - val_loss: 0.1324 - val_mae: 0.2686\n",
            "Epoch 57/200\n",
            "32/32 [==============================] - 0s 3ms/step - loss: 0.0313 - mae: 0.1270 - val_loss: 0.1266 - val_mae: 0.2709\n",
            "Epoch 58/200\n",
            "32/32 [==============================] - 0s 3ms/step - loss: 0.0274 - mae: 0.1200 - val_loss: 0.1257 - val_mae: 0.2727\n",
            "Epoch 59/200\n",
            "32/32 [==============================] - 0s 3ms/step - loss: 0.0329 - mae: 0.1299 - val_loss: 0.1278 - val_mae: 0.2651\n",
            "Epoch 60/200\n",
            "32/32 [==============================] - 0s 3ms/step - loss: 0.0325 - mae: 0.1270 - val_loss: 0.1427 - val_mae: 0.2852\n",
            "Epoch 61/200\n",
            "32/32 [==============================] - 0s 3ms/step - loss: 0.0284 - mae: 0.1206 - val_loss: 0.1351 - val_mae: 0.2799\n",
            "Epoch 62/200\n",
            "32/32 [==============================] - 0s 3ms/step - loss: 0.0313 - mae: 0.1316 - val_loss: 0.1216 - val_mae: 0.2663\n",
            "Epoch 63/200\n",
            "32/32 [==============================] - 0s 3ms/step - loss: 0.0302 - mae: 0.1259 - val_loss: 0.1205 - val_mae: 0.2632\n",
            "Epoch 64/200\n",
            "32/32 [==============================] - 0s 3ms/step - loss: 0.0288 - mae: 0.1204 - val_loss: 0.1510 - val_mae: 0.2875\n",
            "Epoch 65/200\n",
            "32/32 [==============================] - 0s 3ms/step - loss: 0.0290 - mae: 0.1203 - val_loss: 0.1301 - val_mae: 0.2691\n",
            "Epoch 66/200\n",
            "32/32 [==============================] - 0s 3ms/step - loss: 0.0267 - mae: 0.1164 - val_loss: 0.1292 - val_mae: 0.2677\n",
            "Epoch 67/200\n",
            "32/32 [==============================] - 0s 3ms/step - loss: 0.0309 - mae: 0.1276 - val_loss: 0.1218 - val_mae: 0.2614\n",
            "Epoch 68/200\n",
            "32/32 [==============================] - 0s 3ms/step - loss: 0.0256 - mae: 0.1168 - val_loss: 0.1126 - val_mae: 0.2563\n",
            "Epoch 69/200\n",
            "32/32 [==============================] - 0s 4ms/step - loss: 0.0371 - mae: 0.1339 - val_loss: 0.1144 - val_mae: 0.2523\n",
            "Epoch 70/200\n",
            "32/32 [==============================] - 0s 3ms/step - loss: 0.0245 - mae: 0.1065 - val_loss: 0.1252 - val_mae: 0.2563\n",
            "Epoch 71/200\n",
            "32/32 [==============================] - 0s 3ms/step - loss: 0.0244 - mae: 0.1133 - val_loss: 0.1326 - val_mae: 0.2743\n",
            "Epoch 72/200\n",
            "32/32 [==============================] - 0s 4ms/step - loss: 0.0254 - mae: 0.1151 - val_loss: 0.1505 - val_mae: 0.2889\n",
            "Epoch 73/200\n",
            "32/32 [==============================] - 0s 3ms/step - loss: 0.0303 - mae: 0.1269 - val_loss: 0.1316 - val_mae: 0.2818\n",
            "Epoch 74/200\n",
            "32/32 [==============================] - 0s 3ms/step - loss: 0.0317 - mae: 0.1252 - val_loss: 0.1366 - val_mae: 0.2647\n",
            "Epoch 75/200\n",
            "32/32 [==============================] - 0s 3ms/step - loss: 0.0241 - mae: 0.1110 - val_loss: 0.1316 - val_mae: 0.2682\n",
            "Epoch 76/200\n",
            "32/32 [==============================] - 0s 3ms/step - loss: 0.0274 - mae: 0.1179 - val_loss: 0.1341 - val_mae: 0.2713\n",
            "Epoch 77/200\n",
            "32/32 [==============================] - 0s 3ms/step - loss: 0.0195 - mae: 0.1030 - val_loss: 0.1529 - val_mae: 0.2924\n",
            "Epoch 78/200\n",
            "32/32 [==============================] - 0s 3ms/step - loss: 0.0254 - mae: 0.1138 - val_loss: 0.1353 - val_mae: 0.2836\n",
            "Epoch 79/200\n",
            "32/32 [==============================] - 0s 3ms/step - loss: 0.0289 - mae: 0.1169 - val_loss: 0.1129 - val_mae: 0.2525\n",
            "Epoch 80/200\n",
            "32/32 [==============================] - 0s 4ms/step - loss: 0.0231 - mae: 0.1001 - val_loss: 0.1193 - val_mae: 0.2481\n",
            "Epoch 81/200\n",
            "32/32 [==============================] - 0s 3ms/step - loss: 0.0343 - mae: 0.1243 - val_loss: 0.1313 - val_mae: 0.2846\n",
            "Epoch 82/200\n",
            "32/32 [==============================] - 0s 3ms/step - loss: 0.0289 - mae: 0.1247 - val_loss: 0.1178 - val_mae: 0.2656\n",
            "Epoch 83/200\n",
            "32/32 [==============================] - 0s 3ms/step - loss: 0.0218 - mae: 0.1057 - val_loss: 0.1174 - val_mae: 0.2520\n",
            "Epoch 84/200\n",
            "32/32 [==============================] - 0s 3ms/step - loss: 0.0201 - mae: 0.1008 - val_loss: 0.1179 - val_mae: 0.2569\n",
            "Epoch 85/200\n",
            "32/32 [==============================] - 0s 3ms/step - loss: 0.0203 - mae: 0.1038 - val_loss: 0.1368 - val_mae: 0.2781\n",
            "Epoch 86/200\n",
            "32/32 [==============================] - 0s 3ms/step - loss: 0.0224 - mae: 0.1070 - val_loss: 0.1309 - val_mae: 0.2677\n",
            "Epoch 87/200\n",
            "32/32 [==============================] - 0s 3ms/step - loss: 0.0316 - mae: 0.1240 - val_loss: 0.1165 - val_mae: 0.2582\n",
            "Epoch 88/200\n",
            "32/32 [==============================] - 0s 3ms/step - loss: 0.0249 - mae: 0.1049 - val_loss: 0.1252 - val_mae: 0.2592\n",
            "Epoch 89/200\n",
            "32/32 [==============================] - 0s 3ms/step - loss: 0.0278 - mae: 0.1126 - val_loss: 0.1249 - val_mae: 0.2573\n",
            "Epoch 90/200\n",
            "32/32 [==============================] - 0s 3ms/step - loss: 0.0242 - mae: 0.1084 - val_loss: 0.1202 - val_mae: 0.2542\n",
            "Epoch 91/200\n",
            "32/32 [==============================] - 0s 3ms/step - loss: 0.0283 - mae: 0.1137 - val_loss: 0.1350 - val_mae: 0.2687\n",
            "Epoch 92/200\n",
            "32/32 [==============================] - 0s 3ms/step - loss: 0.0313 - mae: 0.1241 - val_loss: 0.1246 - val_mae: 0.2646\n",
            "Epoch 93/200\n",
            "32/32 [==============================] - 0s 3ms/step - loss: 0.0223 - mae: 0.1066 - val_loss: 0.1229 - val_mae: 0.2613\n",
            "Epoch 94/200\n",
            "32/32 [==============================] - 0s 3ms/step - loss: 0.0261 - mae: 0.1118 - val_loss: 0.1178 - val_mae: 0.2507\n",
            "Epoch 95/200\n",
            "32/32 [==============================] - 0s 3ms/step - loss: 0.0255 - mae: 0.1098 - val_loss: 0.1327 - val_mae: 0.2687\n",
            "Epoch 96/200\n",
            "32/32 [==============================] - 0s 3ms/step - loss: 0.0298 - mae: 0.1200 - val_loss: 0.1200 - val_mae: 0.2524\n",
            "Epoch 97/200\n",
            "32/32 [==============================] - 0s 3ms/step - loss: 0.0209 - mae: 0.1037 - val_loss: 0.1170 - val_mae: 0.2500\n",
            "Epoch 98/200\n",
            "32/32 [==============================] - 0s 3ms/step - loss: 0.0234 - mae: 0.1085 - val_loss: 0.1315 - val_mae: 0.2690\n",
            "Epoch 99/200\n",
            "32/32 [==============================] - 0s 3ms/step - loss: 0.0217 - mae: 0.1064 - val_loss: 0.1181 - val_mae: 0.2558\n",
            "Epoch 100/200\n",
            "32/32 [==============================] - 0s 3ms/step - loss: 0.0207 - mae: 0.1008 - val_loss: 0.1180 - val_mae: 0.2537\n",
            "Epoch 101/200\n",
            "32/32 [==============================] - 0s 4ms/step - loss: 0.0190 - mae: 0.0998 - val_loss: 0.1353 - val_mae: 0.2785\n",
            "Epoch 102/200\n",
            "32/32 [==============================] - 0s 3ms/step - loss: 0.0298 - mae: 0.1194 - val_loss: 0.1228 - val_mae: 0.2497\n",
            "Epoch 103/200\n",
            "32/32 [==============================] - 0s 3ms/step - loss: 0.0200 - mae: 0.1000 - val_loss: 0.1222 - val_mae: 0.2532\n",
            "Epoch 104/200\n",
            "32/32 [==============================] - 0s 3ms/step - loss: 0.0214 - mae: 0.0997 - val_loss: 0.1397 - val_mae: 0.2774\n",
            "Epoch 105/200\n",
            "32/32 [==============================] - 0s 3ms/step - loss: 0.0218 - mae: 0.1023 - val_loss: 0.1214 - val_mae: 0.2583\n",
            "Epoch 106/200\n",
            "32/32 [==============================] - 0s 3ms/step - loss: 0.0241 - mae: 0.1068 - val_loss: 0.1114 - val_mae: 0.2463\n",
            "Epoch 107/200\n",
            "32/32 [==============================] - 0s 4ms/step - loss: 0.0210 - mae: 0.0969 - val_loss: 0.1132 - val_mae: 0.2444\n",
            "Epoch 108/200\n",
            "32/32 [==============================] - 0s 4ms/step - loss: 0.0222 - mae: 0.1040 - val_loss: 0.1146 - val_mae: 0.2514\n",
            "Epoch 109/200\n",
            "32/32 [==============================] - 0s 3ms/step - loss: 0.0162 - mae: 0.0884 - val_loss: 0.1259 - val_mae: 0.2636\n",
            "Epoch 110/200\n",
            "32/32 [==============================] - 0s 3ms/step - loss: 0.0273 - mae: 0.1081 - val_loss: 0.1292 - val_mae: 0.2656\n",
            "Epoch 111/200\n",
            "32/32 [==============================] - 0s 4ms/step - loss: 0.0232 - mae: 0.1016 - val_loss: 0.1259 - val_mae: 0.2656\n",
            "Epoch 112/200\n",
            "32/32 [==============================] - 0s 3ms/step - loss: 0.0253 - mae: 0.1088 - val_loss: 0.1200 - val_mae: 0.2505\n",
            "Epoch 113/200\n",
            "32/32 [==============================] - 0s 3ms/step - loss: 0.0225 - mae: 0.1039 - val_loss: 0.1153 - val_mae: 0.2569\n",
            "Epoch 114/200\n",
            "32/32 [==============================] - 0s 3ms/step - loss: 0.0175 - mae: 0.0938 - val_loss: 0.1124 - val_mae: 0.2527\n",
            "Epoch 115/200\n",
            "32/32 [==============================] - 0s 3ms/step - loss: 0.0180 - mae: 0.0901 - val_loss: 0.1140 - val_mae: 0.2485\n",
            "Epoch 116/200\n",
            "32/32 [==============================] - 0s 4ms/step - loss: 0.0190 - mae: 0.0968 - val_loss: 0.1407 - val_mae: 0.2868\n",
            "Epoch 117/200\n",
            "32/32 [==============================] - 0s 3ms/step - loss: 0.0252 - mae: 0.1126 - val_loss: 0.1140 - val_mae: 0.2463\n",
            "Epoch 118/200\n",
            "32/32 [==============================] - 0s 3ms/step - loss: 0.0243 - mae: 0.1088 - val_loss: 0.1143 - val_mae: 0.2510\n",
            "Epoch 119/200\n",
            "32/32 [==============================] - 0s 3ms/step - loss: 0.0257 - mae: 0.1078 - val_loss: 0.1098 - val_mae: 0.2463\n",
            "Epoch 120/200\n",
            "32/32 [==============================] - 0s 3ms/step - loss: 0.0288 - mae: 0.1138 - val_loss: 0.1180 - val_mae: 0.2583\n",
            "Epoch 121/200\n",
            "32/32 [==============================] - 0s 3ms/step - loss: 0.0216 - mae: 0.1040 - val_loss: 0.1184 - val_mae: 0.2537\n",
            "Epoch 122/200\n",
            "32/32 [==============================] - 0s 4ms/step - loss: 0.0216 - mae: 0.0957 - val_loss: 0.1176 - val_mae: 0.2505\n",
            "Epoch 123/200\n",
            "32/32 [==============================] - 0s 3ms/step - loss: 0.0194 - mae: 0.0982 - val_loss: 0.1184 - val_mae: 0.2512\n",
            "Epoch 124/200\n",
            "32/32 [==============================] - 0s 3ms/step - loss: 0.0200 - mae: 0.0963 - val_loss: 0.1198 - val_mae: 0.2614\n",
            "Epoch 125/200\n",
            "32/32 [==============================] - 0s 3ms/step - loss: 0.0247 - mae: 0.1007 - val_loss: 0.1204 - val_mae: 0.2594\n",
            "Epoch 126/200\n",
            "32/32 [==============================] - 0s 3ms/step - loss: 0.0210 - mae: 0.1022 - val_loss: 0.1452 - val_mae: 0.2899\n",
            "Epoch 127/200\n",
            "32/32 [==============================] - 0s 3ms/step - loss: 0.0215 - mae: 0.1038 - val_loss: 0.1253 - val_mae: 0.2701\n",
            "Epoch 128/200\n",
            "32/32 [==============================] - 0s 3ms/step - loss: 0.0205 - mae: 0.1003 - val_loss: 0.1273 - val_mae: 0.2600\n",
            "Epoch 129/200\n",
            "32/32 [==============================] - 0s 3ms/step - loss: 0.0212 - mae: 0.1007 - val_loss: 0.1127 - val_mae: 0.2409\n",
            "Epoch 130/200\n",
            "32/32 [==============================] - 0s 3ms/step - loss: 0.0199 - mae: 0.0957 - val_loss: 0.1267 - val_mae: 0.2556\n",
            "Epoch 131/200\n",
            "32/32 [==============================] - 0s 3ms/step - loss: 0.0210 - mae: 0.0974 - val_loss: 0.1217 - val_mae: 0.2572\n",
            "Epoch 132/200\n",
            "32/32 [==============================] - 0s 3ms/step - loss: 0.0207 - mae: 0.0988 - val_loss: 0.1474 - val_mae: 0.2778\n",
            "Epoch 133/200\n",
            "32/32 [==============================] - 0s 3ms/step - loss: 0.0202 - mae: 0.0968 - val_loss: 0.1164 - val_mae: 0.2460\n",
            "Epoch 134/200\n",
            "32/32 [==============================] - 0s 3ms/step - loss: 0.0195 - mae: 0.0970 - val_loss: 0.1262 - val_mae: 0.2600\n",
            "Epoch 135/200\n",
            "32/32 [==============================] - 0s 3ms/step - loss: 0.0166 - mae: 0.0894 - val_loss: 0.1165 - val_mae: 0.2476\n",
            "Epoch 136/200\n",
            "32/32 [==============================] - 0s 3ms/step - loss: 0.0195 - mae: 0.0982 - val_loss: 0.1125 - val_mae: 0.2493\n",
            "Epoch 137/200\n",
            "32/32 [==============================] - 0s 3ms/step - loss: 0.0173 - mae: 0.0880 - val_loss: 0.1175 - val_mae: 0.2554\n",
            "Epoch 138/200\n",
            "32/32 [==============================] - 0s 3ms/step - loss: 0.0144 - mae: 0.0847 - val_loss: 0.1222 - val_mae: 0.2688\n",
            "Epoch 139/200\n",
            "32/32 [==============================] - 0s 4ms/step - loss: 0.0173 - mae: 0.0880 - val_loss: 0.1120 - val_mae: 0.2473\n",
            "Epoch 140/200\n",
            "32/32 [==============================] - 0s 4ms/step - loss: 0.0206 - mae: 0.0958 - val_loss: 0.1109 - val_mae: 0.2427\n",
            "Epoch 141/200\n",
            "32/32 [==============================] - 0s 3ms/step - loss: 0.0199 - mae: 0.0999 - val_loss: 0.1194 - val_mae: 0.2516\n",
            "Epoch 142/200\n",
            "32/32 [==============================] - 0s 3ms/step - loss: 0.0225 - mae: 0.0993 - val_loss: 0.1119 - val_mae: 0.2495\n",
            "Epoch 143/200\n",
            "32/32 [==============================] - 0s 3ms/step - loss: 0.0241 - mae: 0.0967 - val_loss: 0.1264 - val_mae: 0.2625\n",
            "Epoch 144/200\n",
            "32/32 [==============================] - 0s 3ms/step - loss: 0.0193 - mae: 0.0936 - val_loss: 0.1130 - val_mae: 0.2488\n",
            "Epoch 145/200\n",
            "32/32 [==============================] - 0s 3ms/step - loss: 0.0164 - mae: 0.0880 - val_loss: 0.1198 - val_mae: 0.2580\n",
            "Epoch 146/200\n",
            "32/32 [==============================] - 0s 3ms/step - loss: 0.0166 - mae: 0.0874 - val_loss: 0.1082 - val_mae: 0.2388\n",
            "Epoch 147/200\n",
            "32/32 [==============================] - 0s 3ms/step - loss: 0.0170 - mae: 0.0898 - val_loss: 0.1207 - val_mae: 0.2574\n",
            "Epoch 148/200\n",
            "32/32 [==============================] - 0s 3ms/step - loss: 0.0247 - mae: 0.0989 - val_loss: 0.1126 - val_mae: 0.2484\n",
            "Epoch 149/200\n",
            "32/32 [==============================] - 0s 3ms/step - loss: 0.0168 - mae: 0.0873 - val_loss: 0.1214 - val_mae: 0.2545\n",
            "Epoch 150/200\n",
            "32/32 [==============================] - 0s 3ms/step - loss: 0.0209 - mae: 0.0905 - val_loss: 0.1145 - val_mae: 0.2428\n",
            "Epoch 151/200\n",
            "32/32 [==============================] - 0s 3ms/step - loss: 0.0216 - mae: 0.0969 - val_loss: 0.1361 - val_mae: 0.2700\n",
            "Epoch 152/200\n",
            "32/32 [==============================] - 0s 3ms/step - loss: 0.0182 - mae: 0.0915 - val_loss: 0.1171 - val_mae: 0.2468\n",
            "Epoch 153/200\n",
            "32/32 [==============================] - 0s 3ms/step - loss: 0.0217 - mae: 0.0950 - val_loss: 0.1265 - val_mae: 0.2541\n",
            "Epoch 154/200\n",
            "32/32 [==============================] - 0s 3ms/step - loss: 0.0164 - mae: 0.0865 - val_loss: 0.1196 - val_mae: 0.2623\n",
            "Epoch 155/200\n",
            "32/32 [==============================] - 0s 3ms/step - loss: 0.0199 - mae: 0.0945 - val_loss: 0.1189 - val_mae: 0.2550\n",
            "Epoch 156/200\n",
            "32/32 [==============================] - 0s 3ms/step - loss: 0.0224 - mae: 0.1037 - val_loss: 0.1130 - val_mae: 0.2639\n",
            "Epoch 157/200\n",
            "32/32 [==============================] - 0s 3ms/step - loss: 0.0228 - mae: 0.1022 - val_loss: 0.1196 - val_mae: 0.2535\n",
            "Epoch 158/200\n",
            "32/32 [==============================] - 0s 3ms/step - loss: 0.0203 - mae: 0.0946 - val_loss: 0.1370 - val_mae: 0.2789\n",
            "Epoch 159/200\n",
            "32/32 [==============================] - 0s 3ms/step - loss: 0.0229 - mae: 0.0986 - val_loss: 0.1224 - val_mae: 0.2548\n",
            "Epoch 160/200\n",
            "32/32 [==============================] - 0s 3ms/step - loss: 0.0185 - mae: 0.0854 - val_loss: 0.1168 - val_mae: 0.2509\n",
            "Epoch 161/200\n",
            "32/32 [==============================] - 0s 4ms/step - loss: 0.0184 - mae: 0.0938 - val_loss: 0.1352 - val_mae: 0.2650\n",
            "Epoch 162/200\n",
            "32/32 [==============================] - 0s 3ms/step - loss: 0.0143 - mae: 0.0847 - val_loss: 0.1129 - val_mae: 0.2482\n",
            "Epoch 163/200\n",
            "32/32 [==============================] - 0s 3ms/step - loss: 0.0181 - mae: 0.0952 - val_loss: 0.1159 - val_mae: 0.2479\n",
            "Epoch 164/200\n",
            "32/32 [==============================] - 0s 3ms/step - loss: 0.0160 - mae: 0.0880 - val_loss: 0.1123 - val_mae: 0.2471\n",
            "Epoch 165/200\n",
            "32/32 [==============================] - 0s 3ms/step - loss: 0.0194 - mae: 0.0945 - val_loss: 0.1123 - val_mae: 0.2474\n",
            "Epoch 166/200\n",
            "32/32 [==============================] - 0s 3ms/step - loss: 0.0206 - mae: 0.0951 - val_loss: 0.1222 - val_mae: 0.2643\n",
            "Epoch 167/200\n",
            "32/32 [==============================] - 0s 4ms/step - loss: 0.0182 - mae: 0.0854 - val_loss: 0.1121 - val_mae: 0.2460\n",
            "Epoch 168/200\n",
            "32/32 [==============================] - 0s 3ms/step - loss: 0.0189 - mae: 0.0868 - val_loss: 0.1153 - val_mae: 0.2482\n",
            "Epoch 169/200\n",
            "32/32 [==============================] - 0s 3ms/step - loss: 0.0218 - mae: 0.0866 - val_loss: 0.1304 - val_mae: 0.2577\n",
            "Epoch 170/200\n",
            "32/32 [==============================] - 0s 3ms/step - loss: 0.0218 - mae: 0.0936 - val_loss: 0.1139 - val_mae: 0.2525\n",
            "Epoch 171/200\n",
            "32/32 [==============================] - 0s 3ms/step - loss: 0.0208 - mae: 0.0995 - val_loss: 0.1077 - val_mae: 0.2382\n",
            "Epoch 172/200\n",
            "32/32 [==============================] - 0s 3ms/step - loss: 0.0193 - mae: 0.0886 - val_loss: 0.1121 - val_mae: 0.2418\n",
            "Epoch 173/200\n",
            "32/32 [==============================] - 0s 3ms/step - loss: 0.0152 - mae: 0.0780 - val_loss: 0.1076 - val_mae: 0.2391\n",
            "Epoch 174/200\n",
            "32/32 [==============================] - 0s 3ms/step - loss: 0.0165 - mae: 0.0859 - val_loss: 0.1128 - val_mae: 0.2434\n",
            "Epoch 175/200\n",
            "32/32 [==============================] - 0s 4ms/step - loss: 0.0140 - mae: 0.0812 - val_loss: 0.1327 - val_mae: 0.2718\n",
            "Epoch 176/200\n",
            "32/32 [==============================] - 0s 3ms/step - loss: 0.0254 - mae: 0.1042 - val_loss: 0.1104 - val_mae: 0.2447\n",
            "Epoch 177/200\n",
            "32/32 [==============================] - 0s 3ms/step - loss: 0.0253 - mae: 0.1067 - val_loss: 0.1187 - val_mae: 0.2495\n",
            "Epoch 178/200\n",
            "32/32 [==============================] - 0s 3ms/step - loss: 0.0232 - mae: 0.0917 - val_loss: 0.1043 - val_mae: 0.2348\n",
            "Epoch 179/200\n",
            "32/32 [==============================] - 0s 3ms/step - loss: 0.0188 - mae: 0.0907 - val_loss: 0.1129 - val_mae: 0.2502\n",
            "Epoch 180/200\n",
            "32/32 [==============================] - 0s 3ms/step - loss: 0.0147 - mae: 0.0801 - val_loss: 0.1089 - val_mae: 0.2425\n",
            "Epoch 181/200\n",
            "32/32 [==============================] - 0s 3ms/step - loss: 0.0142 - mae: 0.0785 - val_loss: 0.1213 - val_mae: 0.2514\n",
            "Epoch 182/200\n",
            "32/32 [==============================] - 0s 3ms/step - loss: 0.0232 - mae: 0.0961 - val_loss: 0.1109 - val_mae: 0.2496\n",
            "Epoch 183/200\n",
            "32/32 [==============================] - 0s 4ms/step - loss: 0.0167 - mae: 0.0862 - val_loss: 0.1139 - val_mae: 0.2426\n",
            "Epoch 184/200\n",
            "32/32 [==============================] - 0s 3ms/step - loss: 0.0169 - mae: 0.0861 - val_loss: 0.1160 - val_mae: 0.2497\n",
            "Epoch 185/200\n",
            "32/32 [==============================] - 0s 4ms/step - loss: 0.0149 - mae: 0.0821 - val_loss: 0.1108 - val_mae: 0.2453\n",
            "Epoch 186/200\n",
            "32/32 [==============================] - 0s 3ms/step - loss: 0.0141 - mae: 0.0817 - val_loss: 0.1155 - val_mae: 0.2504\n",
            "Epoch 187/200\n",
            "32/32 [==============================] - 0s 3ms/step - loss: 0.0172 - mae: 0.0840 - val_loss: 0.1148 - val_mae: 0.2431\n",
            "Epoch 188/200\n",
            "32/32 [==============================] - 0s 3ms/step - loss: 0.0197 - mae: 0.0926 - val_loss: 0.1130 - val_mae: 0.2482\n",
            "Epoch 189/200\n",
            "32/32 [==============================] - 0s 3ms/step - loss: 0.0156 - mae: 0.0831 - val_loss: 0.1171 - val_mae: 0.2565\n",
            "Epoch 190/200\n",
            "32/32 [==============================] - 0s 3ms/step - loss: 0.0201 - mae: 0.0917 - val_loss: 0.1140 - val_mae: 0.2494\n",
            "Epoch 191/200\n",
            "32/32 [==============================] - 0s 3ms/step - loss: 0.0156 - mae: 0.0795 - val_loss: 0.1154 - val_mae: 0.2448\n",
            "Epoch 192/200\n",
            "32/32 [==============================] - 0s 3ms/step - loss: 0.0129 - mae: 0.0801 - val_loss: 0.1173 - val_mae: 0.2532\n",
            "Epoch 193/200\n",
            "32/32 [==============================] - 0s 3ms/step - loss: 0.0187 - mae: 0.0915 - val_loss: 0.1165 - val_mae: 0.2494\n",
            "Epoch 194/200\n",
            "32/32 [==============================] - 0s 4ms/step - loss: 0.0177 - mae: 0.0852 - val_loss: 0.1223 - val_mae: 0.2594\n",
            "Epoch 195/200\n",
            "32/32 [==============================] - 0s 3ms/step - loss: 0.0192 - mae: 0.0881 - val_loss: 0.1064 - val_mae: 0.2414\n",
            "Epoch 196/200\n",
            "32/32 [==============================] - 0s 3ms/step - loss: 0.0145 - mae: 0.0776 - val_loss: 0.1122 - val_mae: 0.2454\n",
            "Epoch 197/200\n",
            "32/32 [==============================] - 0s 3ms/step - loss: 0.0128 - mae: 0.0774 - val_loss: 0.1259 - val_mae: 0.2683\n",
            "Epoch 198/200\n",
            "32/32 [==============================] - 0s 3ms/step - loss: 0.0130 - mae: 0.0777 - val_loss: 0.1253 - val_mae: 0.2588\n",
            "Epoch 199/200\n",
            "32/32 [==============================] - 0s 3ms/step - loss: 0.0154 - mae: 0.0842 - val_loss: 0.1112 - val_mae: 0.2454\n",
            "Epoch 200/200\n",
            "32/32 [==============================] - 0s 3ms/step - loss: 0.0198 - mae: 0.0859 - val_loss: 0.1164 - val_mae: 0.2442\n"
          ],
          "name": "stdout"
        }
      ]
    },
    {
      "cell_type": "code",
      "metadata": {
        "id": "EQ0t-1zpvrIu"
      },
      "source": [
        "history.history.keys()"
      ],
      "execution_count": null,
      "outputs": []
    },
    {
      "cell_type": "code",
      "metadata": {
        "colab": {
          "base_uri": "https://localhost:8080/"
        },
        "id": "AI8nLrH5vuQf",
        "outputId": "429d19df-a114-477f-9f67-cf4f7c235d85"
      },
      "source": [
        "loss,mae=network.evaluate(X_test,Y_test)"
      ],
      "execution_count": 26,
      "outputs": [
        {
          "output_type": "stream",
          "text": [
            "10/10 [==============================] - 0s 2ms/step - loss: 0.1364 - mae: 0.2406\n"
          ],
          "name": "stdout"
        }
      ]
    },
    {
      "cell_type": "code",
      "metadata": {
        "id": "blBlAzuWvws_"
      },
      "source": [
        "val_mae = history.history['val_mae']\n",
        "val_loss = history.history['val_loss']"
      ],
      "execution_count": 27,
      "outputs": []
    },
    {
      "cell_type": "code",
      "metadata": {
        "colab": {
          "base_uri": "https://localhost:8080/",
          "height": 295
        },
        "id": "XLDCZMJAv6Mw",
        "outputId": "7fd27354-4755-4821-8d3a-a8a31e784370"
      },
      "source": [
        "import matplotlib.pyplot as plt \n",
        "history_dict = history.history\n",
        "loss_values = history_dict['loss']\n",
        "val_loss_values = history_dict['val_loss']\n",
        "epochs = range(200)\n",
        "plt.plot(epochs, loss_values, 'bo', label='Training loss')\n",
        "plt.plot(epochs, val_loss_values, 'b', label='Validation loss')\n",
        "plt.title('Training and validation loss')\n",
        "plt.xlabel('Epochs')\n",
        "plt.ylabel('Loss')\n",
        "plt.legend()\n",
        "plt.show()"
      ],
      "execution_count": 28,
      "outputs": [
        {
          "output_type": "display_data",
          "data": {
            "image/png": "[encoded data removed]",
            "text/plain": [
              "<Figure size 432x288 with 1 Axes>"
            ]
          },
          "metadata": {
            "tags": [],
            "needs_background": "light"
          }
        }
      ]
    },
    {
      "cell_type": "code",
      "metadata": {
        "colab": {
          "base_uri": "https://localhost:8080/",
          "height": 295
        },
        "id": "6O_Srn-gv7Sh",
        "outputId": "a3196fe7-7cb0-45ae-ac70-1fc7468aa21c"
      },
      "source": [
        "import matplotlib.pyplot as plt \n",
        "acc_values = history_dict['mae']\n",
        "val_acc_values = history_dict['val_mae']\n",
        "plt.plot(epochs, acc_values, 'bo', label='Training mae')\n",
        "plt.plot(epochs, val_acc_values, 'b', label='Validation mae')\n",
        "plt.title('Training and validation accuracy')\n",
        "plt.xlabel('Epochs')\n",
        "plt.ylabel('mae')\n",
        "plt.legend()\n",
        "plt.show()"
      ],
      "execution_count": 29,
      "outputs": [
        {
          "output_type": "display_data",
          "data": {
            "image/png": "[encoded data removed]",
            "text/plain": [
              "<Figure size 432x288 with 1 Axes>"
            ]
          },
          "metadata": {
            "tags": [],
            "needs_background": "light"
          }
        }
      ]
    },
    {
      "cell_type": "code",
      "metadata": {
        "id": "FtxvuZ5Qv-Wa"
      },
      "source": [
        "y_pred = network.predict(X_test)"
      ],
      "execution_count": 30,
      "outputs": []
    },
    {
      "cell_type": "code",
      "metadata": {
        "id": "kX5GddtEwAU5"
      },
      "source": [
        "def denorm(x):\n",
        "    return (x * Y_std) + Y_mean"
      ],
      "execution_count": 31,
      "outputs": []
    },
    {
      "cell_type": "code",
      "metadata": {
        "id": "RNuEXuGuwCQy"
      },
      "source": [
        "y_pred = denorm(y_pred)"
      ],
      "execution_count": 32,
      "outputs": []
    },
    {
      "cell_type": "code",
      "metadata": {
        "id": "aKAcXNZ-wG_y"
      },
      "source": [
        "y_true = denorm(Y_test)"
      ],
      "execution_count": 33,
      "outputs": []
    },
    {
      "cell_type": "code",
      "metadata": {
        "id": "XoXRHdnbwIwX"
      },
      "source": [
        "y_pred = y_pred.flatten()"
      ],
      "execution_count": 34,
      "outputs": []
    },
    {
      "cell_type": "code",
      "metadata": {
        "colab": {
          "base_uri": "https://localhost:8080/"
        },
        "id": "RSR7Tg2rwKST",
        "outputId": "3bc5273f-2fe7-459e-f952-edd5b8df5d31"
      },
      "source": [
        "y_pred.shape"
      ],
      "execution_count": 35,
      "outputs": [
        {
          "output_type": "execute_result",
          "data": {
            "text/plain": [
              "(309,)"
            ]
          },
          "metadata": {
            "tags": []
          },
          "execution_count": 35
        }
      ]
    },
    {
      "cell_type": "code",
      "metadata": {
        "colab": {
          "base_uri": "https://localhost:8080/"
        },
        "id": "FwHLo0svwL1G",
        "outputId": "30452c67-35d1-4334-8b47-f932e478aca8"
      },
      "source": [
        "y_true.shape"
      ],
      "execution_count": 36,
      "outputs": [
        {
          "output_type": "execute_result",
          "data": {
            "text/plain": [
              "(309,)"
            ]
          },
          "metadata": {
            "tags": []
          },
          "execution_count": 36
        }
      ]
    },
    {
      "cell_type": "code",
      "metadata": {
        "colab": {
          "base_uri": "https://localhost:8080/",
          "height": 286
        },
        "id": "5G-MuiXkwOjX",
        "outputId": "a77738ef-cbd2-4cd9-90fd-c9f241bfb717"
      },
      "source": [
        "import numpy as np\n",
        "import matplotlib.pyplot as plt\n",
        "coef = np.polyfit(y_true,y_pred,1)\n",
        "poly1d_fn = np.poly1d(coef) \n",
        "# poly1d_fn is now a function which takes in x and returns an estimate for y\n",
        "plt.plot(y_true,y_pred, 'yo', y_true, poly1d_fn(y_true), '--k')\n",
        "plt.xlim(0, 100)\n",
        "plt.ylim(0, 100)"
      ],
      "execution_count": 37,
      "outputs": [
        {
          "output_type": "execute_result",
          "data": {
            "text/plain": [
              "(0.0, 100.0)"
            ]
          },
          "metadata": {
            "tags": []
          },
          "execution_count": 37
        },
        {
          "output_type": "display_data",
          "data": {
            "image/png": "[encoded data removed]",
            "text/plain": [
              "<Figure size 432x288 with 1 Axes>"
            ]
          },
          "metadata": {
            "tags": [],
            "needs_background": "light"
          }
        }
      ]
    },
    {
      "cell_type": "code",
      "metadata": {
        "id": "NsfEKQ6BwSHb"
      },
      "source": [
        ""
      ],
      "execution_count": null,
      "outputs": []
    }
  ]
}